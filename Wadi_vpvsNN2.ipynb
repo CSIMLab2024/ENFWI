{
 "cells": [
  {
   "cell_type": "code",
   "execution_count": 1,
   "id": "15d9c7ba",
   "metadata": {},
   "outputs": [],
   "source": [
    "%matplotlib inline\n",
    "import numpy\n",
    "import numpy as np\n",
    "import matplotlib.pyplot as plt\n",
    "import matplotlib\n",
    "import math\n",
    "import scipy\n",
    "def smooth2a(matrixIn,Nr,Nc):\n",
    "    device = matrixIn.device\n",
    "    matrixIn = matrixIn.cpu().numpy()\n",
    "    [row,col] = matrixIn.shape\n",
    "    eL = scipy.sparse.spdiags(numpy.ones((2*Nr,row)),numpy.arange(-Nr,Nr),row,row)\n",
    "    eR = scipy.sparse.spdiags(numpy.ones((2*Nc,col)),numpy.arange(-Nc,Nc),col,col)\n",
    "    nrmlize = eL@(numpy.ones_like(matrixIn))@eR\n",
    "    matrixOut = eL@matrixIn@eR\n",
    "    matrixOut = matrixOut/nrmlize\n",
    "    matrixOut = torch.from_numpy(matrixOut)\n",
    "    matrixOut = matrixOut.to(device)\n",
    "    return matrixOut\n",
    "def norm_trace(seis):\n",
    "    data_out = np.zeros(np.shape(seis))\n",
    "    for k in range(np.size(seis,axis=1)):\n",
    "        data_out[:,k] = seis[:,k]/np.max(np.abs(seis[:,k]))\n",
    "    seis=data_out\n",
    "    return seis\n",
    "def envelope(xr):\n",
    "    for i in range(np.size(xr,axis=1)):\n",
    "        hx = fftpack.hilbert(xr[:,i])\n",
    "        xr[:,i] = np.sqrt(np.power(xr[:,i],2) + np.power(hx,2))\n",
    "    return xr\n",
    "def imagesc(damp,alpha=1,cmin=1,cmax=1):\n",
    "    damp = damp.detach().cpu().numpy()\n",
    "    if cmin == cmax:\n",
    "        cmin=numpy.min(damp)\n",
    "        cmax=numpy.max(damp)\n",
    "    fig = plt.figure(facecolor=[0, 32/255, 96/255],figsize=(12,6))\n",
    "    plt.pcolormesh(damp, vmin=cmin, vmax=cmax,cmap= 'jet')\n",
    "    ax = plt.gca() \n",
    "    ax.invert_yaxis() \n",
    "    plt.tick_params(axis='x',colors='w')\n",
    "    plt.tick_params(axis='y',colors='w')\n",
    "    ax.spines['right'].set_color('w')\n",
    "    ax.spines['left'].set_color('w')\n",
    "    ax.spines['bottom'].set_color('w')\n",
    "    ax.spines['top'].set_color('w')\n",
    "    plt.xticks(fontsize=20)\n",
    "    plt.yticks(fontsize=20)\n",
    "#     plt.xlabel(\"step\",fontsize=20)\n",
    "#     plt.ylabel(\"rate\",fontsize=20)\n",
    "    cb=plt.colorbar(pad=0.03)\n",
    "    cb.ax.tick_params(colors='w',labelsize=18)\n",
    "    cb.ax.spines['right'].set_color('w')\n",
    "    matplotlib.cm.get_cmap('jet')\n",
    "def extend_wave(s,nt):\n",
    "    ng = np.size(s,axis=1)\n",
    "    if np.size(s[:,0])<nt:\n",
    "        ss=np.zeros((nt,ng))\n",
    "        for i in range(ng):\n",
    "            xr=np.zeros((nt))\n",
    "            xr[0:np.size(s[:,0])]=s[:,i]\n",
    "            ss[:,i]=xr\n",
    "    return ss\n",
    "def pad(p0, nbc, pad_top):\n",
    "    p=torch.cat((p0[:,0].reshape(-1,1).repeat(1,nbc),p0,p0[:,-1].reshape(-1,1).repeat(1,nbc)),dim=1)\n",
    "    p=torch.cat((p[0,:].reshape(1,-1).repeat(pad_top,1),p,p[-1,:].reshape(1,-1).repeat(nbc,1)),dim=0)\n",
    "    return p\n",
    "import scipy.io as sio\n",
    "import torch\n",
    "from torch.utils.data import DataLoader\n",
    "import time"
   ]
  },
  {
   "cell_type": "code",
   "execution_count": 2,
   "id": "44537493",
   "metadata": {},
   "outputs": [],
   "source": [
    "import torch\n",
    "#import visdom\n",
    "from torch.utils.data import DataLoader\n",
    "from torchvision import transforms, datasets\n",
    "from torch import nn, optim\n",
    "\n",
    "import scipy.io as sio\n",
    "\n",
    "class NN1(nn.Module):\n",
    "    def __init__(self, num_input, w0, h0, vmax, vmin):\n",
    "        super(NN1, self).__init__()\n",
    "        self.net1 = nn.Sequential(\n",
    "            nn.Linear(num_input, w0*h0*8,bias=False),        \n",
    "            nn.ReLU(),\n",
    "        )\n",
    "    \n",
    "        self.net2 = nn.Sequential(\n",
    "            nn.UpsamplingBilinear2d(scale_factor=2),\n",
    "            nn.Conv2d(8, 128, (4, 4), stride=(1, 1), padding=\"same\", bias=False),\n",
    "            nn.LeakyReLU(negative_slope=0.01),\n",
    "            \n",
    "            nn.UpsamplingBilinear2d(scale_factor=2),\n",
    "            nn.Conv2d(128, 64, (4, 4), stride=(1, 1), padding=\"same\", bias=False),\n",
    "            nn.LeakyReLU(negative_slope=0.01),\n",
    "            \n",
    "            nn.UpsamplingBilinear2d(scale_factor=2),\n",
    "            nn.Conv2d(64, 32, (4, 4), stride=(1, 1), padding=\"same\", bias=False),\n",
    "            nn.LeakyReLU(negative_slope=0.01),\n",
    "            \n",
    "            nn.UpsamplingBilinear2d(scale_factor=2),\n",
    "            nn.Conv2d(32, 16, (4, 4), stride=(1, 1), padding=\"same\", bias=False),\n",
    "            nn.LeakyReLU(negative_slope=0.01),\n",
    "            \n",
    "#             nn.UpsamplingBilinear2d(scale_factor=2),\n",
    "#             nn.Conv2d(16, 8, (4, 4), stride=(1, 1), padding=\"same\", bias=False),\n",
    "#             nn.LeakyReLU(negative_slope=0.01),\n",
    "            \n",
    "            nn.Conv2d(16, 1, (4, 4), stride=(1, 1), padding=\"same\", bias=False),\n",
    "            \n",
    "        )\n",
    "    def forward(self, x):\n",
    "        \n",
    "        x = self.net1(x)\n",
    "        x = x.reshape(-1, int(num_input), int(w0), int(h0))\n",
    "        x = self.net2(x)\n",
    "        return x\n",
    "    \n",
    "class NN2(nn.Module):\n",
    "    def __init__(self, num_input, w0, h0, vmax, vmin):\n",
    "        super(NN2, self).__init__()\n",
    "        self.net1 = nn.Sequential(\n",
    "            nn.Linear(num_input, w0*h0*8,bias=False),        \n",
    "            nn.ReLU(),\n",
    "        )\n",
    "    \n",
    "        self.net2 = nn.Sequential(\n",
    "            nn.UpsamplingBilinear2d(scale_factor=2),\n",
    "            nn.Conv2d(8, 128, (4, 4), stride=(1, 1), padding=\"same\", bias=False),\n",
    "            nn.LeakyReLU(negative_slope=0.01),\n",
    "#             nn.BatchNorm2d(128),\n",
    "#             nn.Dropout2d(p=0.35),\n",
    "            \n",
    "            nn.UpsamplingBilinear2d(scale_factor=2),\n",
    "            nn.Conv2d(128, 64, (4, 4), stride=(1, 1), padding=\"same\", bias=False),\n",
    "            nn.LeakyReLU(negative_slope=0.01),\n",
    "#             nn.BatchNorm2d(64),\n",
    "#             nn.Dropout2d(p=0.40),\n",
    "            \n",
    "            nn.UpsamplingBilinear2d(scale_factor=2),\n",
    "            nn.Conv2d(64, 32, (4, 4), stride=(1, 1), padding=\"same\", bias=False),\n",
    "            nn.LeakyReLU(negative_slope=0.01),\n",
    "#             nn.BatchNorm2d(32),\n",
    "#             nn.Dropout2d(p=0.35),\n",
    "            \n",
    "            nn.UpsamplingBilinear2d(scale_factor=2),\n",
    "            nn.Conv2d(32, 16, (4, 4), stride=(1, 1), padding=\"same\", bias=False),\n",
    "            nn.LeakyReLU(negative_slope=0.01),\n",
    "#             nn.BatchNorm2d(16),\n",
    "#             nn.Dropout2d(p=0.30),\n",
    "            \n",
    "#             nn.UpsamplingBilinear2d(scale_factor=2),\n",
    "#             nn.Conv2d(16, 8, (4, 4), stride=(1, 1), padding=\"same\", bias=False),\n",
    "#             nn.LeakyReLU(negative_slope=0.01),\n",
    "            \n",
    "            nn.Conv2d(16, 1, (4, 4), stride=(1, 1), padding=\"same\", bias=False),\n",
    "            \n",
    "        )\n",
    "    def forward(self, x):\n",
    "        \n",
    "        x = self.net1(x)\n",
    "        x = x.reshape(-1, int(num_input), int(w0), int(h0))\n",
    "        x = self.net2(x)\n",
    "        return x"
   ]
  },
  {
   "cell_type": "code",
   "execution_count": 3,
   "id": "bec6dd25",
   "metadata": {},
   "outputs": [],
   "source": [
    "class NN3(nn.Module):\n",
    "    def __init__(self, num_input, w0, h0, vmax, vmin):\n",
    "        super(NN3, self).__init__()\n",
    "        self.net1 = nn.Sequential(\n",
    "            nn.Linear(num_input, w0*h0*8,bias=False),        \n",
    "            nn.ReLU(),\n",
    "        )\n",
    "    \n",
    "        self.net2 = nn.Sequential(\n",
    "            nn.UpsamplingBilinear2d(scale_factor=2),\n",
    "            nn.Conv2d(8, 64, (4, 4), stride=(1, 1), padding=\"same\", bias=False),\n",
    "            nn.LeakyReLU(negative_slope=0.01),\n",
    "            \n",
    "            nn.UpsamplingBilinear2d(scale_factor=2),\n",
    "            nn.Conv2d(64, 32, (4, 4), stride=(1, 1), padding=\"same\", bias=False),\n",
    "            nn.LeakyReLU(negative_slope=0.01),\n",
    "            \n",
    "            nn.UpsamplingBilinear2d(scale_factor=2),\n",
    "            nn.Conv2d(32, 16, (4, 4), stride=(1, 1), padding=\"same\", bias=False),\n",
    "            nn.LeakyReLU(negative_slope=0.01),\n",
    "            \n",
    "            nn.UpsamplingBilinear2d(scale_factor=2),\n",
    "            nn.Conv2d(16, 1, (4, 4), stride=(1, 1), padding=\"same\", bias=False),\n",
    "#             nn.LeakyReLU(negative_slope=0.01),\n",
    "            \n",
    "#             nn.UpsamplingBilinear2d(scale_factor=2),\n",
    "#             nn.Conv2d(16, 8, (4, 4), stride=(1, 1), padding=\"same\", bias=False),\n",
    "#             nn.LeakyReLU(negative_slope=0.01),\n",
    "            \n",
    "#             nn.Conv2d(16, 1, (4, 4), stride=(1, 1), padding=\"same\", bias=False),\n",
    "            \n",
    "        )\n",
    "    def forward(self, x):\n",
    "        \n",
    "        x = self.net1(x)\n",
    "        x = x.reshape(-1, int(num_input), int(w0), int(h0))\n",
    "        x = self.net2(x)\n",
    "        return x\n",
    "    "
   ]
  },
  {
   "cell_type": "code",
   "execution_count": 4,
   "id": "9b8ae589",
   "metadata": {},
   "outputs": [],
   "source": [
    "import torch.nn.functional as F\n",
    "def staggeredfd_py_cuda(\n",
    "    inputs,\n",
    "    temp,\n",
    "    ca,       \n",
    "    cl,       \n",
    "    cm,       \n",
    "    cm1,        \n",
    "    b,      \n",
    "    b1,      \n",
    "    s):\n",
    "    nt = int(inputs[0])\n",
    "    nzbc = int(inputs[1])\n",
    "    nxbc = int(inputs[2])\n",
    "    dtx = float(inputs[3])\n",
    "    ng = int(inputs[4])\n",
    "    sz = int(inputs[5]);sz = sz - 1;\n",
    "    sx = int(inputs[6]);sx = sx - 1;\n",
    "    gz = int(inputs[7]);gz = gz - 1;\n",
    "    gx = int(inputs[8]);gx = gx - 1;\n",
    "    dg = int(inputs[9])\n",
    "    source_type_num = int(inputs[10])\n",
    "    fd_order_num = int(inputs[11])\n",
    "    number_elements = nt*ng\n",
    "    length_geophone = ng*dg\n",
    "    nt_interval = int(inputs[12])\n",
    "    nz = int(inputs[13])\n",
    "    nx = int(inputs[14])\n",
    "    format_num = int(inputs[15])\n",
    "    nbc = (nxbc-nx)/2\n",
    "    num_nt_record = nt//nt_interval\n",
    "    wavefield_elements = num_nt_record*nx*nz\n",
    "\n",
    "\n",
    "    #   Input variables from python numpy: temp ca cl cm b s\n",
    "    # libtorch Initialising input variables: uu, ww, xx, xz, zz\n",
    "    uu = torch.zeros((nzbc,nxbc), dtype=torch.float32, device=torch.device('cuda', 0))\n",
    "    ww = torch.zeros((nzbc,nxbc), dtype=torch.float32, device=torch.device('cuda', 0))\n",
    "    xx = torch.zeros((nzbc,nxbc), dtype=torch.float32, device=torch.device('cuda', 0))\n",
    "    xz = torch.zeros((nzbc,nxbc), dtype=torch.float32, device=torch.device('cuda', 0))\n",
    "    zz = torch.zeros((nzbc,nxbc), dtype=torch.float32, device=torch.device('cuda', 0))\n",
    "    #  libtorch Initialising input variables: fux, fuz, bwx, bwz\n",
    "    fux = torch.zeros((nzbc,nxbc), dtype=torch.float32, device=torch.device('cuda', 0))\n",
    "    fuz = torch.zeros((nzbc,nxbc), dtype=torch.float32, device=torch.device('cuda', 0))\n",
    "    bwx = torch.zeros((nzbc,nxbc), dtype=torch.float32, device=torch.device('cuda', 0))\n",
    "    bwz = torch.zeros((nzbc,nxbc), dtype=torch.float32, device=torch.device('cuda', 0))\n",
    "    #  libtorch Initialising output variables: seismo_w, seismo_u       \n",
    "    seismo_w = torch.zeros((nt,ng), dtype=torch.float32, device=torch.device('cuda', 0))\n",
    "    seismo_u = torch.zeros((nt,ng), dtype=torch.float32, device=torch.device('cuda', 0))\n",
    "\n",
    "    wavefield_gradient_fux = torch.zeros((nz,nx*num_nt_record), dtype=torch.float32, device=torch.device('cuda', 0))\n",
    "    wavefield_gradient_fuz = torch.zeros((nz,nx*num_nt_record), dtype=torch.float32, device=torch.device('cuda', 0))\n",
    "    wavefield_gradient_bwx = torch.zeros((nz,nx*num_nt_record), dtype=torch.float32, device=torch.device('cuda', 0))\n",
    "    wavefield_gradient_bwz = torch.zeros((nz,nx*num_nt_record), dtype=torch.float32, device=torch.device('cuda', 0))\n",
    "\n",
    "    #  libtorch zero_vector for free surface zz\n",
    "    zero_vector = torch.zeros((1,nxbc), dtype=torch.float32, device=torch.device('cuda', 0))\n",
    "    geophone_vector = torch.zeros((1,nxbc), dtype=torch.float32, device=torch.device('cuda', 0))\n",
    "\n",
    "    if fd_order_num==22 :\n",
    "        k = nzbc-2; i = nxbc-2; pad_top = 1;\n",
    "    elif fd_order_num==24 :\n",
    "        k = nzbc-4; i = nxbc-4; pad_top = 2;\n",
    "    elif fd_order_num==26 :\n",
    "        k = nzbc-6; i = nxbc-6; pad_top = 3;\n",
    "    elif fd_order_num==28 :\n",
    "        k = nzbc-8; i = nxbc-8; pad_top = 4;\n",
    "    S41 = 1.1250;S42 = -0.0416666667;S61 = 1.17187;S62 = -6.51042E-2;S63 = 4.68750E-3;S81 = 1.19629;S82 = -7.97526E-2;S83 = 9.57031E-3;S84 = -6.97545E-4;\n",
    "\n",
    "    for it in range(nt) :\n",
    "        if  fd_order_num == 22 :\n",
    "            uu = F.pad((temp[1:1+k, 1:1+i]*(uu[1:1+k, 1:1+i]) + b[1:1+k, 1:1+i]*(  \\\n",
    "                    xx[1:1+k, 1+1:1+1+i] - xx[1:1+k, 1:1+i] + xz[1:1+k, 1:1+i] - xz[1-1:1-1+k, 1:1+i])), [1, 1, 1, 1])   \n",
    "            ww = F.pad((temp[1:1+k, 1:1+i]*(ww[1:1+k, 1:1+i]) + b1[1:1+k, 1:1+i]*(  \\\n",
    "                    xz[1:1+k, 1:1+i] - xz[1:1+k, 1-1:1-1+i] + zz[1+1:1+1+k, 1:1+i] - zz[1:1+k, 1:1+i])), [1, 1, 1, 1])         \n",
    "        \n",
    "        if source_type_num == 3:\n",
    "            uu[sz,sx] = uu[sz,sx] + s[it]\n",
    "            ww[sz,sx] = ww[sz,sx] + s[it]\n",
    "        elif source_type_num == 5:\n",
    "            ww[sz,sx]=s[it]    \n",
    "            \n",
    "        if fd_order_num == 22 :\n",
    "            fux = F.pad((uu[1:1+k, 1:1+i] - uu[1:1+k, 1-1:1-1+i]), [1, 1, 1, 1])   \n",
    "            fuz = F.pad((uu[1+1:1+1+k, 1:1+i] - uu[1:1+k, 1:1+i]), [1, 1, 1, 1])   \n",
    "            bwx = F.pad((ww[1:1+k, 1+1:1+1+i] - ww[1:1+k, 1:1+i]), [1, 1, 1, 1])   \n",
    "            bwz = F.pad((ww[1:1+k, 1:1+i] - ww[1-1:1-1+k, 1:1+i]), [1, 1, 1, 1])   \n",
    "            \n",
    "        xx=temp * (xx) + (ca * (fux) + cl * (bwz))*dtx\n",
    "        zz=temp * (zz) + (ca * (bwz) + cl * (fux))*dtx\n",
    "        xz=temp * (xz) + (cm1 * (fuz + bwx))*dtx\n",
    "\n",
    "#         zz[pad_top,:]=0.0\n",
    "\n",
    "        seismo_w[it, :] = (1+0*torch.randn((1,ng),device=torch.device('cuda', 0))) * ww[gz,gx:gx+length_geophone-1:dg]\n",
    "\n",
    "        seismo_u[it, :] = (1+0*torch.randn((1,ng),device=torch.device('cuda', 0))) * uu[gz,gx:gx+length_geophone-1:dg]\n",
    "#         if(it%nt_interval==0):\n",
    "#             wavefield_gradient_fux[:, nx*it//nt_interval:nx*it//nt_interval + nx]=fux[pad_top+1:pad_top+1+nz, nbc:nbc + nx]\n",
    "#             wavefield_gradient_fuz[:, nx*it//nt_interval:nx*it//nt_interval + nx]=fuz[pad_top+1:pad_top+1+nz, nbc:nbc + nx]\n",
    "#             wavefield_gradient_bwx[:, nx*it//nt_interval:nx*it//nt_interval + nx]=bwx[pad_top+1:pad_top+1+nz, nbc:nbc + nx]\n",
    "#             wavefield_gradient_bwz[:, nx*it//nt_interval:nx*it//nt_interval + nx]=bwz[pad_top+1:pad_top+1+nz, nbc:nbc + nx]  \n",
    "\n",
    "\n",
    "    return seismo_u,seismo_w"
   ]
  },
  {
   "cell_type": "code",
   "execution_count": 5,
   "id": "e37867b1",
   "metadata": {},
   "outputs": [],
   "source": [
    "import libtorch_staggerfd_cuda"
   ]
  },
  {
   "cell_type": "code",
   "execution_count": null,
   "id": "8b6b6719",
   "metadata": {},
   "outputs": [],
   "source": []
  },
  {
   "cell_type": "code",
   "execution_count": 6,
   "id": "afb1c08b",
   "metadata": {},
   "outputs": [],
   "source": [
    "model_list = sio.loadmat('wadi_init.mat')\n",
    "vp_RM = torch.from_numpy(model_list['vp_init'].astype('float32'))\n",
    "# vp_RM = vp_RM[0:40,:]\n",
    "# vp_RM = torch.from_numpy(model30[0][0][0].astype('float32'))\n",
    "# vp_RM = torch.from_numpy(model3.astype('float32'))\n",
    "# vs_RM = torch.div(vp_RM,model37)\n",
    "wadid = sio.loadmat('wadi_data4.mat')\n",
    "source = torch.from_numpy(wadid['nsource'].astype('float32')).to('cuda')\n",
    "s = source\n",
    "seismo_v_d = torch.from_numpy(wadid['wadi_interp'].astype('float32')).to('cuda')\n",
    "# udlimit = sio.loadmat('udlimit.mat')\n",
    "p_ind = torch.from_numpy(wadid['p_ind'].astype('float32'))\n",
    "# nt = torch.from_numpy(wadid['nt'].astype('int64'))\n",
    "nt=6000\n",
    "vp_RM = vp_RM#[:50,:]                  \n",
    "vs_RM = vp_RM/1.732\n",
    "[nz,nx]=vp_RM.shape  #nz：深度网格点数，nx测线方向网格点数\n",
    "nbc=40                  #吸收边界长\n",
    "dx=1                    #一网格点对应深度\n",
    "dt=1.25e-4\n",
    "# nt=torch.floor(nx*dx/torch.min(vp_RM)/dt+300) #公式，不能过短\n",
    "\n",
    "fr=30              #频率\n",
    "isfs=1\n",
    "nbc = 40\n",
    "if isfs == 1:\n",
    "    pad_top = 2\n",
    "else:\n",
    "    pad_top = nbc\n",
    "ds=2\n",
    "sx=torch.arange(0,nx-2,ds)\n",
    "sz=torch.zeros(sx.shape)+1      #炮点位置\n",
    "ns=sx.numel()\n",
    "dg=2\n",
    "gx=torch.arange(0,nx-2,dg)\n",
    "ng=gx.numel()\n",
    "gz=torch.zeros(gx.shape)+1\n",
    "isFS=1\n",
    "sx=sx+nbc\n",
    "sz=sz+pad_top-1\n",
    "gx=gx+nbc\n",
    "gz=gz+pad_top-1\n"
   ]
  },
  {
   "cell_type": "code",
   "execution_count": 13,
   "id": "b86f5085",
   "metadata": {},
   "outputs": [
    {
     "data": {
      "text/plain": [
       "117"
      ]
     },
     "execution_count": 13,
     "metadata": {},
     "output_type": "execute_result"
    }
   ],
   "source": [
    "len(sx)"
   ]
  },
  {
   "cell_type": "code",
   "execution_count": 7,
   "id": "ed69d88c",
   "metadata": {},
   "outputs": [
    {
     "data": {
      "text/plain": [
       "torch.Size([71, 235])"
      ]
     },
     "execution_count": 7,
     "metadata": {},
     "output_type": "execute_result"
    },
    {
     "data": {
      "image/png": "[encoded data removed]",
      "text/plain": [
       "<Figure size 864x432 with 2 Axes>"
      ]
     },
     "metadata": {},
     "output_type": "display_data"
    }
   ],
   "source": [
    "asd = torch.cat((torch.ones((31,1)),torch.linspace(1,0.1,40).view(-1,1)),0)\n",
    "vs_de = asd.repeat(1,nx)\n",
    "imagesc(vs_de)\n",
    "vs_de.shape"
   ]
  },
  {
   "cell_type": "code",
   "execution_count": 8,
   "id": "7cd7607d",
   "metadata": {},
   "outputs": [
    {
     "data": {
      "image/png": "[encoded data removed]",
      "text/plain": [
       "<Figure size 864x432 with 2 Axes>"
      ]
     },
     "metadata": {},
     "output_type": "display_data"
    }
   ],
   "source": [
    "imagesc(vp_RM)"
   ]
  },
  {
   "cell_type": "code",
   "execution_count": 9,
   "id": "7f3c76cc",
   "metadata": {
    "scrolled": true
   },
   "outputs": [
    {
     "name": "stdout",
     "output_type": "stream",
     "text": [
      "maxlinep tensor(3822.3818359375) minlinep tensor(380.6489562988) maxlines tensor(2059.7900390625) minlines tensor(197.7967987061)\n"
     ]
    }
   ],
   "source": [
    "x = torch.rand(size=(1, 8)).requires_grad_(True)\n",
    "vpmax=torch.max(vp_RM)*1.5\n",
    "vpmin=torch.min(vp_RM)\n",
    "vsmax=torch.max(vs_RM)*1.4\n",
    "vsmin=torch.min(vs_RM)*0.9\n",
    "[nz,nx] = vp_RM.shape\n",
    "asd = torch.linspace(vpmin,vpmax,nz).view(-1,1)\n",
    "vp0 = vp_RM\n",
    "# vp0 = torch.from_numpy(model_list['vp_init'].astype('float32'))#ratio model require\n",
    "asd = torch.linspace(vsmin,vsmax,nz).view(-1,1)\n",
    "# vs0 = asd.repeat(1,nx)\n",
    "vs0 = vs_RM\n",
    "num_layer=4\n",
    "num_input = 8\n",
    "w0=int(np.ceil(vp0.shape[0]/(2**num_layer)))\n",
    "h0=int(np.ceil(vp0.shape[1]/(2**num_layer)))\n",
    "torch.set_printoptions(precision=10)\n",
    "maxlinep = vpmax*torch.ones_like(vp0)\n",
    "minlinep = vpmin*torch.ones_like(vp0)\n",
    "maxlines = vsmax*torch.ones_like(vs0)\n",
    "minlines = vsmin*torch.ones_like(vs0)\n",
    "print('maxlinep',maxlinep[0,0],'minlinep',minlinep[0,0],'maxlines',maxlines[0,0],'minlines',minlines[0,0])"
   ]
  },
  {
   "cell_type": "code",
   "execution_count": 10,
   "id": "14c7e031",
   "metadata": {},
   "outputs": [
    {
     "data": {
      "text/plain": [
       "0.000125"
      ]
     },
     "execution_count": 10,
     "metadata": {},
     "output_type": "execute_result"
    }
   ],
   "source": [
    "dt"
   ]
  },
  {
   "cell_type": "code",
   "execution_count": 11,
   "id": "137f2154",
   "metadata": {},
   "outputs": [],
   "source": [
    "sio.savemat('matinverarg.mat',{'vmin':float(vsmin),'nzbc':nz+pad_top+nbc,'nxbc':nx+nbc+nbc, \\\n",
    "            'dx':dx,'isfs':1,'pad_top':pad_top,'f':fr,'dt':float(dt),'nt':nt,'nbc':nbc})"
   ]
  },
  {
   "cell_type": "code",
   "execution_count": 12,
   "id": "ef1e6955",
   "metadata": {},
   "outputs": [],
   "source": [
    "def damp_circle(vmin,nzbc,nxbc,nbc,dx,isfs,pad_top):\n",
    "    nz=nzbc-nbc-pad_top\n",
    "    nx=nxbc-2*nbc\n",
    "\n",
    "    a=(nbc-1)*dx\n",
    "    kappa = 3.0 * vmin * 16.118095650958320 / (2.0 * a)\n",
    "\n",
    "    # setup 1D BC damping array\n",
    "    damp1d=kappa*(torch.arange(0,nbc)*dx/a)**2\n",
    "    damp=torch.zeros((nzbc,nxbc))\n",
    "\n",
    "\n",
    "# Take care of the 4 boundaries\n",
    "   # Left and right\n",
    "    for iz in range(pad_top,nz+pad_top):\n",
    "        damp[iz,:nbc]=torch.flip(damp1d,[0])\n",
    "        damp[iz,nx+nbc:nx+2*nbc]=damp1d\n",
    "\n",
    "\n",
    "    for ix in range(nbc,nx+nbc):\n",
    "        if (isfs):\n",
    "            damp[0:pad_top,ix]=0.0\n",
    "        else:\n",
    "            damp[:pad_top,ix]=torch.flip(damp1d,[0])\n",
    "        damp[nzbc-nbc:nzbc,ix]=damp1d\n",
    "\n",
    "    # Take care of the 4 corners\n",
    "        # Upper left\n",
    "    if (~isfs):\n",
    "        for iz in range(pad_top):\n",
    "            for ix in range(nbc):\n",
    "                dist=math.sqrt((ix-nbc-1)**2+(iz-pad_top-1)**2)\n",
    "                damp[iz,ix]=kappa*(dist/nbc)**2\n",
    "\n",
    "         # Upper right\n",
    "        for iz in range(pad_top):\n",
    "            for ix in range(nx+nbc,nxbc):\n",
    "                dist=math.sqrt((ix-nx-nbc)**2+(iz-pad_top-1)**2)\n",
    "                damp[iz,ix]=kappa*(dist/nbc)**2\n",
    "\n",
    "   \n",
    "       # Lower left\n",
    "    for iz in range(nz+pad_top,nzbc):\n",
    "        for ix in range(nbc):\n",
    "            dist=math.sqrt((ix-nbc)**2+(iz-nz-pad_top)**2)\n",
    "            damp[iz,ix]=kappa*(dist/nbc)**2\n",
    "       # Lower right\n",
    "    for iz in range(nz+pad_top,nzbc):\n",
    "        for ix in range(nx+nbc,nxbc):\n",
    "            dist=math.sqrt((ix-nbc-nx)**2+(iz-nz-pad_top)**2)\n",
    "            damp[iz,ix]=kappa*(dist/nbc)**2\n",
    "\n",
    "    return damp\n",
    "\n",
    "damp=damp_circle(vsmin,nz+pad_top+nbc,nx+nbc+nbc,nbc,dx,1,pad_top)\n",
    "temp = 1-damp*dt\n"
   ]
  },
  {
   "cell_type": "code",
   "execution_count": 13,
   "id": "da47d92e",
   "metadata": {},
   "outputs": [],
   "source": [
    "#!matlab -nojvm -nodesktop -nosplash -r matinter"
   ]
  },
  {
   "cell_type": "code",
   "execution_count": 14,
   "id": "8a4cc2e0",
   "metadata": {},
   "outputs": [
    {
     "name": "stdout",
     "output_type": "stream",
     "text": [
      "-rw-rw-r-- 1 user user 35920 Feb 24 18:58 matinvertemp.mat\r\n"
     ]
    }
   ],
   "source": [
    "!ls matinvertemp.mat -l"
   ]
  },
  {
   "cell_type": "code",
   "execution_count": 15,
   "id": "38b02ad6",
   "metadata": {},
   "outputs": [],
   "source": [
    "# dummy_input = sio.loadmat('matinvertemp.mat')\n",
    "# for dummy_input_key in list(dummy_input.keys())[3:4]:\n",
    "#     print(dummy_input_key)\n",
    "#     exec(dummy_input_key + '=dummy_input[\"' + dummy_input_key + '\"].astype(np.float32)')\n",
    "#     exec(dummy_input_key + '=torch.from_numpy(' + dummy_input_key + ').to(\"cuda\")')"
   ]
  },
  {
   "cell_type": "code",
   "execution_count": 16,
   "id": "b757c419",
   "metadata": {},
   "outputs": [
    {
     "data": {
      "text/plain": [
       "'1.12.0+cu116'"
      ]
     },
     "execution_count": 16,
     "metadata": {},
     "output_type": "execute_result"
    }
   ],
   "source": [
    "torch.__version__"
   ]
  },
  {
   "cell_type": "code",
   "execution_count": 17,
   "id": "51ac0746",
   "metadata": {},
   "outputs": [],
   "source": [
    "\n",
    "dtx = float(dt/dx)\n",
    "den = pad(torch.ones((nz,nx)),nbc,pad_top)\n",
    "vp1 = pad(vp0,nbc,pad_top)\n",
    "vs1 = pad(vs0,nbc,pad_top)\n",
    "ca=torch.mul(vp1**2,den)\n",
    "cm=torch.mul((vs1**2),den)\n",
    "cl=ca - 2*cm\n",
    "# temp = pad(temp,nbc,pad_top)\n",
    "\n",
    "# den[0:pad_top,:] = 0.5*den[0:pad_top,:]\n",
    "den1=den\n",
    "# den1[pad_top-1,:]=2*den1[pad_top-1,:]\n",
    "# cm[0:pad_top,:]=0.5*cm[0:pad_top,:]\n",
    "cm1=cm;\n",
    "# cl[0:pad_top-1,:]=0.0;\n",
    "# cm1[pad_top-1,:]=2*cm1[pad_top-1,:]\n",
    "ca=cl + 2*cm\n",
    "b=dtx*torch.reciprocal(den)\n",
    "b1=dtx*torch.reciprocal(den1)\n",
    "nzbc = nz + nbc + pad_top\n",
    "nxbc = nx + nbc + nbc\n",
    "source_type_num = 5\n",
    "fd_order_num = 22\n",
    "in_wf = 1\n",
    "format_num = 2\n",
    "# input_vector: [nt,nzbc,nxbc,dtx,ng,sz,sx,gz(1),gx(1),gx(2)-gx(1),source_type_num,fd_order_num,in_wf,nz,nx,format_num];\n"
   ]
  },
  {
   "cell_type": "code",
   "execution_count": 18,
   "id": "d6bb9405",
   "metadata": {},
   "outputs": [],
   "source": [
    "input_vector = torch.tensor([nt,nzbc,nxbc,dtx,ng,int(sz[0]),int(sx[0]),int(gz[0]),int(gx[0]),int(gx[1]-gx[0]), \\\n",
    "                             source_type_num,fd_order_num,in_wf,nz,nx,format_num])"
   ]
  },
  {
   "cell_type": "code",
   "execution_count": 19,
   "id": "35f44475",
   "metadata": {},
   "outputs": [
    {
     "data": {
      "text/plain": [
       "71"
      ]
     },
     "execution_count": 19,
     "metadata": {},
     "output_type": "execute_result"
    }
   ],
   "source": [
    "nz"
   ]
  },
  {
   "cell_type": "code",
   "execution_count": 20,
   "id": "2b1b1c11",
   "metadata": {},
   "outputs": [],
   "source": [
    "model1 = NN1(8, w0, h0, vpmax, vpmin)\n",
    "model2 = NN2(8, w0, h0, vsmax, vsmin)"
   ]
  },
  {
   "cell_type": "code",
   "execution_count": 21,
   "id": "3e83e12b",
   "metadata": {},
   "outputs": [
    {
     "name": "stdout",
     "output_type": "stream",
     "text": [
      "vp_RM\n",
      "vs_RM\n",
      "s\n",
      "sx\n",
      "sz\n",
      "gx\n",
      "gz\n",
      "x\n",
      "vp1 \n",
      "maxlinep\n",
      "minlinep\n",
      "maxlines\n",
      "minlines\n",
      "vs1\n",
      "den\n",
      "input_vector\n",
      "temp\n",
      "vp0\n",
      "vs0\n",
      "vs_de\n"
     ]
    },
    {
     "data": {
      "text/plain": [
       "NN2(\n",
       "  (net1): Sequential(\n",
       "    (0): Linear(in_features=8, out_features=600, bias=False)\n",
       "    (1): ReLU()\n",
       "  )\n",
       "  (net2): Sequential(\n",
       "    (0): UpsamplingBilinear2d(scale_factor=2.0, mode=bilinear)\n",
       "    (1): Conv2d(8, 128, kernel_size=(4, 4), stride=(1, 1), padding=same, bias=False)\n",
       "    (2): LeakyReLU(negative_slope=0.01)\n",
       "    (3): UpsamplingBilinear2d(scale_factor=2.0, mode=bilinear)\n",
       "    (4): Conv2d(128, 64, kernel_size=(4, 4), stride=(1, 1), padding=same, bias=False)\n",
       "    (5): LeakyReLU(negative_slope=0.01)\n",
       "    (6): UpsamplingBilinear2d(scale_factor=2.0, mode=bilinear)\n",
       "    (7): Conv2d(64, 32, kernel_size=(4, 4), stride=(1, 1), padding=same, bias=False)\n",
       "    (8): LeakyReLU(negative_slope=0.01)\n",
       "    (9): UpsamplingBilinear2d(scale_factor=2.0, mode=bilinear)\n",
       "    (10): Conv2d(32, 16, kernel_size=(4, 4), stride=(1, 1), padding=same, bias=False)\n",
       "    (11): LeakyReLU(negative_slope=0.01)\n",
       "    (12): Conv2d(16, 1, kernel_size=(4, 4), stride=(1, 1), padding=same, bias=False)\n",
       "  )\n",
       ")"
      ]
     },
     "execution_count": 21,
     "metadata": {},
     "output_type": "execute_result"
    }
   ],
   "source": [
    "for le in ['vp_RM','vs_RM','s','sx','sz','gx','gz','x','vp1 ','maxlinep','minlinep','maxlines','minlines', \\\n",
    "           'vs1','den','input_vector','temp','vp0','vs0','vs_de']:\n",
    "    print(le)\n",
    "    exec(le + '=' + le + '.to(\"cuda:0\")')\n",
    "model1.to(\"cuda:0\")\n",
    "model2.to(\"cuda:0\")"
   ]
  },
  {
   "cell_type": "code",
   "execution_count": 22,
   "id": "6d2685b0",
   "metadata": {},
   "outputs": [],
   "source": [
    "def GW_mute(seismo_w,T1,gx,sx,T0,vg,dt,ztr):\n",
    "# zoffset_mask = mute_near_offset(seismo_w,gx-sx,ztr)\n",
    "    device = seismo_w.device\n",
    "    tau_o = T0 + torch.ceil(torch.abs(gx-sx)/vg/dt)\n",
    "    [nt,ng] = seismo_w.shape\n",
    "    tapering = torch.ones((nt,ng), device = device)\n",
    "    sig = 0.05* T1\n",
    "    for k in range(ng):\n",
    "        b2 = tau_o[k]\n",
    "        for j in range(nt):\n",
    "            if j> b2:\n",
    "                tapering[j,k] = torch.exp((-(j-b2)**2)/(2*(sig**2)))\n",
    "    seismo_w_mute = seismo_w*(tapering) \n",
    "    return seismo_w_mute\n",
    "\n",
    "# def mute_near_offset(input1,h,lamba):\n",
    "# output=torch.ones_like(input1)\n",
    "# dh=h[2]-h[1];\n",
    "# idh=torch.abs(h/dh);\n",
    "# [~,ix2]=find(idh==lamba)\n",
    "# if ~isempty(ix2)\n",
    "#     for ix=1:length(h)\n",
    "#         if (idh[ix]<=lamba)\n",
    "#            output[:,ix]=0\n",
    "\n",
    "# return output\n",
    "def bp_filter(d,dt,f1,f2,f3,f4):\n",
    "    device = d.device\n",
    "    [nt,nx] = d.shape\n",
    "    k = torch.ceil(torch.log2(torch.tensor([nt])))\n",
    "    nf = int(4*(2**k))\n",
    "\n",
    "    i1 = int(math.floor(nf*f1*dt)+1)\n",
    "    i2 = int(math.floor(nf*f2*dt)+1)\n",
    "    i3 = int(math.floor(nf*f3*dt)+1)\n",
    "    i4 = int(math.floor(nf*f4*dt)+1)\n",
    "\n",
    "    up =  torch.arange(1,i2-i1+1, device = device).reshape(1,-1)/(i2-i1)\n",
    "    down = torch.arange(i4-i3,0,-1, device = device).reshape(1,-1)/(i4-i3)\n",
    "    aux = torch.cat([torch.zeros((1,i1), device = device), up, torch.ones((1,i3-i2), device = device),  \\\n",
    "                     down, torch.zeros((1,nf//2+1-i4), device = device)],1) \n",
    "    aux2 = torch.flip(aux[:,0:nf//2-1],[1])\n",
    "\n",
    "    c = 0\n",
    "    F = torch.transpose(torch.cat([aux,aux2],1), 0, 1)\n",
    "    Phase = (math.pi/180.)*torch.cat([torch.tensor([0], device = device).reshape(1,-1),-c*torch.ones((1,nf//2-1),device = device),  \\\n",
    "                                        torch.tensor([0], device = device).reshape(1,-1),c*torch.ones((1,nf//2-1), device = device)],1)\n",
    "    Transfer = F*torch.exp(-1j*torch.transpose(Phase, 0, 1))\n",
    "    Transfer = Transfer.reshape(nf)\n",
    "\n",
    "    D = torch.fft.fft(d,nf,0)\n",
    "    Do = torch.zeros_like(D,device = device)\n",
    "    for k in range(nx):\n",
    "        Do[:,k] = Transfer*D[:,k]\n",
    "\n",
    "\n",
    "    o = torch.fft.ifft(Do,nf,0)\n",
    "\n",
    "    o = torch.real(o[0:nt,:])\n",
    "    return o\n",
    "def manual_pick(seis,dt,i,ng,p_ind):\n",
    "    device = seis.device\n",
    "    mask = torch.ones_like(seis, device=device)\n",
    "    for ii in range(ng):\n",
    "        if ii!=i:\n",
    "            mask[0:int(torch.round(p_ind[ii,i,0])),ii] = 0 \n",
    "        mask[int(torch.round(p_ind[ii,i,1])):,ii] = 0 \n",
    "    seis = seis * mask\n",
    "    return seis"
   ]
  },
  {
   "cell_type": "code",
   "execution_count": 23,
   "id": "21800669",
   "metadata": {},
   "outputs": [],
   "source": [
    "denm05 = torch.ones((nz+nbc+pad_top,nx+nbc+nbc), device=torch.device('cuda', 0))\n",
    "denm05[0:pad_top,:] = 0.5*denm05[0:pad_top,:]\n",
    "\n",
    "denm2 = torch.ones((nz+nbc+pad_top,nx+nbc+nbc), device=torch.device('cuda', 0))\n",
    "denm2[pad_top-1,:]=2*denm2[pad_top-1,:]\n",
    "\n",
    "denm0 = torch.ones((nz+nbc+pad_top,nx+nbc+nbc), device=torch.device('cuda', 0))\n",
    "denm0[pad_top-1,:]=0.0;\n",
    "\n",
    "denmp5 = torch.ones((nz+nbc+pad_top,nx+nbc+nbc), device=torch.device('cuda', 0))\n",
    "denmp5[pad_top-1,:] = 0.5*denmp5[pad_top-1,:]\n"
   ]
  },
  {
   "cell_type": "code",
   "execution_count": 24,
   "id": "f57c651c",
   "metadata": {},
   "outputs": [
    {
     "data": {
      "text/plain": [
       "[<matplotlib.lines.Line2D at 0x7fc9e04e2ac0>]"
      ]
     },
     "execution_count": 24,
     "metadata": {},
     "output_type": "execute_result"
    },
    {
     "data": {
      "image/png": "[encoded data removed]",
      "text/plain": [
       "<Figure size 432x288 with 1 Axes>"
      ]
     },
     "metadata": {
      "needs_background": "light"
     },
     "output_type": "display_data"
    }
   ],
   "source": [
    "plt.plot(source.cpu().numpy())"
   ]
  },
  {
   "cell_type": "code",
   "execution_count": null,
   "id": "e3d4708d",
   "metadata": {},
   "outputs": [],
   "source": []
  },
  {
   "cell_type": "code",
   "execution_count": 25,
   "id": "34fb6257",
   "metadata": {},
   "outputs": [],
   "source": [
    "def p_real_data(fmax):\n",
    "    seismo_v_d = torch.from_numpy(wadid['wadi_interp'].astype('float32')).to('cuda')\n",
    "    for jj in range(ns):\n",
    "        seismo_v_d[:,:,jj] = bp_filter(seismo_v_d[:,:,jj],dt,5-5,5,fmax,fmax+5)\n",
    "#         seismo_v_d[:,:,jj] = manual_pick(seismo_v_d[:,:,jj],dt,jj,ng,p_ind)\n",
    "        for ii in range(ng):\n",
    "            seismo_v_d[:,ii,jj] = seismo_v_d[:,ii,jj]/torch.max(torch.abs(seismo_v_d[:,ii,jj]))\n",
    "    return seismo_v_d"
   ]
  },
  {
   "cell_type": "code",
   "execution_count": 26,
   "id": "c5f982fc",
   "metadata": {},
   "outputs": [
    {
     "data": {
      "text/plain": [
       "tensor([-1861.9932861328,  1861.9932861328], dtype=torch.float64)"
      ]
     },
     "execution_count": 26,
     "metadata": {},
     "output_type": "execute_result"
    }
   ],
   "source": [
    "vvpmax = vpmax-vpmin\n",
    "vvpmin = vpmin-vpmax\n",
    "((vvpmax - vvpmin) * np.array([-1,1]) + (vvpmax + vvpmin))/2.0\n",
    "vvsmax = vsmax-vsmin\n",
    "vvsmin = vsmin-vsmax\n",
    "((vvsmax - vvsmin) * np.array([-1,1]) + (vvsmax + vvsmin))/2.0"
   ]
  },
  {
   "cell_type": "code",
   "execution_count": 27,
   "id": "94f0519b",
   "metadata": {},
   "outputs": [],
   "source": [
    "criteon = nn.MSELoss()\n",
    "from itertools import chain\n",
    "optimizer = optim.Adam(params=chain(model1.parameters(),model2.parameters()),lr=1e-4)\n",
    "# optimizer = optim.Adam(model.parameters(),lr = 1e-3)\n",
    "# optimizer = optim.Adagrad(model.parameters())"
   ]
  },
  {
   "cell_type": "code",
   "execution_count": 28,
   "id": "fb723811",
   "metadata": {},
   "outputs": [],
   "source": [
    "# pretrained_weights = torch.load('./lowvel2vp.pth')\n",
    "# model1.load_state_dict(pretrained_weights)\n",
    "# pretrained_weights = torch.load('./lowvel2vs.pth')\n",
    "# model2.load_state_dict(pretrained_weights)"
   ]
  },
  {
   "cell_type": "code",
   "execution_count": 29,
   "id": "935c5139",
   "metadata": {},
   "outputs": [
    {
     "data": {
      "text/plain": [
       "<torch.autograd.anomaly_mode.set_detect_anomaly at 0x7fc9e8219c70>"
      ]
     },
     "execution_count": 29,
     "metadata": {},
     "output_type": "execute_result"
    }
   ],
   "source": [
    "torch.autograd.set_detect_anomaly(False)"
   ]
  },
  {
   "cell_type": "code",
   "execution_count": 30,
   "id": "137881f7",
   "metadata": {},
   "outputs": [
    {
     "name": "stdout",
     "output_type": "stream",
     "text": [
      "tensor([[0.10539638996124267578125000000000000000000000000000,\n",
      "         0.56030684709548950195312500000000000000000000000000,\n",
      "         0.31484299898147583007812500000000000000000000000000,\n",
      "         0.50847834348678588867187500000000000000000000000000,\n",
      "         0.14395523071289062500000000000000000000000000000000,\n",
      "         0.49034613370895385742187500000000000000000000000000,\n",
      "         0.34488910436630249023437500000000000000000000000000,\n",
      "         0.94648641347885131835937500000000000000000000000000]],\n",
      "       device='cuda:0', grad_fn=<ToCopyBackward0>)\n"
     ]
    }
   ],
   "source": [
    "# from geomloss import SamplesLoss  # See also ImagesLoss, VolumesLoss\n",
    "# criteon = SamplesLoss(loss=\"sinkhorn\", p=2, blur=.05)\n",
    "import copy\n",
    "torch.set_printoptions(precision=50)\n",
    "print(x)\n",
    "torch.set_printoptions(precision=10)"
   ]
  },
  {
   "cell_type": "code",
   "execution_count": 31,
   "id": "2839f8ad",
   "metadata": {},
   "outputs": [
    {
     "data": {
      "text/plain": [
       "NN2(\n",
       "  (net1): Sequential(\n",
       "    (0): Linear(in_features=8, out_features=600, bias=False)\n",
       "    (1): ReLU()\n",
       "  )\n",
       "  (net2): Sequential(\n",
       "    (0): UpsamplingBilinear2d(scale_factor=2.0, mode=bilinear)\n",
       "    (1): Conv2d(8, 128, kernel_size=(4, 4), stride=(1, 1), padding=same, bias=False)\n",
       "    (2): LeakyReLU(negative_slope=0.01)\n",
       "    (3): UpsamplingBilinear2d(scale_factor=2.0, mode=bilinear)\n",
       "    (4): Conv2d(128, 64, kernel_size=(4, 4), stride=(1, 1), padding=same, bias=False)\n",
       "    (5): LeakyReLU(negative_slope=0.01)\n",
       "    (6): UpsamplingBilinear2d(scale_factor=2.0, mode=bilinear)\n",
       "    (7): Conv2d(64, 32, kernel_size=(4, 4), stride=(1, 1), padding=same, bias=False)\n",
       "    (8): LeakyReLU(negative_slope=0.01)\n",
       "    (9): UpsamplingBilinear2d(scale_factor=2.0, mode=bilinear)\n",
       "    (10): Conv2d(32, 16, kernel_size=(4, 4), stride=(1, 1), padding=same, bias=False)\n",
       "    (11): LeakyReLU(negative_slope=0.01)\n",
       "    (12): Conv2d(16, 1, kernel_size=(4, 4), stride=(1, 1), padding=same, bias=False)\n",
       "  )\n",
       ")"
      ]
     },
     "execution_count": 31,
     "metadata": {},
     "output_type": "execute_result"
    }
   ],
   "source": [
    "import math\n",
    "def weights_init(m):\n",
    "    classname = m.__class__.__name__\n",
    "\n",
    "    if classname.find('Conv2d') != -1:\n",
    "#         fan_in, _ = torch.nn.init._calculate_fan_in_and_fan_out(m.weight)\n",
    "#         bound = 1 / math.sqrt(fan_in) if fan_in > 0 else 0\n",
    "#         torch.nn.init.kaiming_uniform_(m.weight.data,a=math.sqrt(50))\n",
    "        torch.nn.init.xavier_normal_(m.weight.data)\n",
    "#         torch.nn.init.constant_(m.bias.data, 0.0)\n",
    "    elif classname.find('Linear') != -1:\n",
    "#         fan_in, _ = torch.nn.init._calculate_fan_in_and_fan_out(m.weight)\n",
    "#         bound = 1 / math.sqrt(fan_in) if fan_in > 0 else 0\n",
    "#         torch.nn.init.kaiming_uniform_(m.weight.data,a=math.sqrt(50))\n",
    "#         torch.nn.init.uniform_(m.bias.data, -bound, bound)\n",
    "        torch.nn.init.xavier_normal_(m.weight.data)\n",
    "model1.apply(weights_init)\n",
    "model2.apply(weights_init)"
   ]
  },
  {
   "cell_type": "code",
   "execution_count": 32,
   "id": "4352a7d4",
   "metadata": {},
   "outputs": [
    {
     "name": "stderr",
     "output_type": "stream",
     "text": [
      "/home/user/anaconda3/lib/python3.8/site-packages/torch/nn/modules/conv.py:453: UserWarning: Using padding='same' with even kernel lengths and odd dilation may require a zero-padded copy of the input be created (Triggered internally at  ../aten/src/ATen/native/Convolution.cpp:882.)\n",
      "  return F.conv2d(input, weight, bias, self.stride,\n"
     ]
    },
    {
     "data": {
      "text/plain": [
       "NN2(\n",
       "  (net1): Sequential(\n",
       "    (0): Linear(in_features=8, out_features=600, bias=False)\n",
       "    (1): ReLU()\n",
       "  )\n",
       "  (net2): Sequential(\n",
       "    (0): UpsamplingBilinear2d(scale_factor=2.0, mode=bilinear)\n",
       "    (1): Conv2d(8, 128, kernel_size=(4, 4), stride=(1, 1), padding=same, bias=False)\n",
       "    (2): LeakyReLU(negative_slope=0.01)\n",
       "    (3): UpsamplingBilinear2d(scale_factor=2.0, mode=bilinear)\n",
       "    (4): Conv2d(128, 64, kernel_size=(4, 4), stride=(1, 1), padding=same, bias=False)\n",
       "    (5): LeakyReLU(negative_slope=0.01)\n",
       "    (6): UpsamplingBilinear2d(scale_factor=2.0, mode=bilinear)\n",
       "    (7): Conv2d(64, 32, kernel_size=(4, 4), stride=(1, 1), padding=same, bias=False)\n",
       "    (8): LeakyReLU(negative_slope=0.01)\n",
       "    (9): UpsamplingBilinear2d(scale_factor=2.0, mode=bilinear)\n",
       "    (10): Conv2d(32, 16, kernel_size=(4, 4), stride=(1, 1), padding=same, bias=False)\n",
       "    (11): LeakyReLU(negative_slope=0.01)\n",
       "    (12): Conv2d(16, 1, kernel_size=(4, 4), stride=(1, 1), padding=same, bias=False)\n",
       "  )\n",
       ")"
      ]
     },
     "execution_count": 32,
     "metadata": {},
     "output_type": "execute_result"
    }
   ],
   "source": [
    "model1.eval()\n",
    "model2.eval()\n",
    "with torch.no_grad():\n",
    "    yp = model1(x)\n",
    "    ##update\n",
    "    yp = ((vvpmax - vvpmin) * torch.tanh(yp) + (vvpmax + vvpmin))/2.0\n",
    "    yp_ini = torch.squeeze(yp)\n",
    "    ys = model2(x)\n",
    "    ys = ((vvsmax - vvsmin) * torch.tanh(ys) + (vvsmax + vvsmin))/2.0\n",
    "    ys_ini = torch.squeeze(ys)\n",
    "model1.train()\n",
    "model2.train()"
   ]
  },
  {
   "cell_type": "code",
   "execution_count": 33,
   "id": "0df5d334",
   "metadata": {},
   "outputs": [
    {
     "data": {
      "image/png": "[encoded data removed]",
      "text/plain": [
       "<Figure size 864x432 with 2 Axes>"
      ]
     },
     "metadata": {},
     "output_type": "display_data"
    }
   ],
   "source": [
    "print_log = open(\"./wadi_0411.txt\",'w')\n",
    "iteration = 1200\n",
    "device=('cuda')\n",
    "res = torch.zeros((iteration), device='cuda')\n",
    "res[0]=1\n",
    "fmax = 40\n",
    "seismo_v_d = p_real_data(fmax)\n",
    "imagesc(seismo_v_d[:,:,100])\n",
    "pur=0.05"
   ]
  },
  {
   "cell_type": "code",
   "execution_count": null,
   "id": "3053826e",
   "metadata": {
    "scrolled": true
   },
   "outputs": [],
   "source": [
    "for i in range(1,iteration):\n",
    "    T1=time.time()\n",
    "    optimizer.zero_grad()\n",
    "    for gg in range(0,ns,3):\n",
    "#     for gg in range(ns):  \n",
    "        yp = model1(x)\n",
    "        yp = ((vvpmax - vvpmin) * torch.tanh(yp) + (vvpmax + vvpmin))/2.0\n",
    "        yp = torch.squeeze(yp)\n",
    "        y_shape0 = (yp.shape[0] - vp0.shape[0])//2\n",
    "        y_shape1 = (yp.shape[1] - vp0.shape[1])//2\n",
    "        dk_vp = yp[y_shape0:y_shape0+vp0.shape[0],y_shape1:y_shape1+vp0.shape[1]]\n",
    "        v_mean_p=torch.sqrt(torch.sum(vp0**2))\n",
    "        g_mean_p=torch.sqrt(torch.sum(dk_vp**2))\n",
    "        alpha_p=v_mean_p/g_mean_p  \n",
    "        velocityp = vp0 + alpha_p * dk_vp * pur\n",
    "        velocityp = torch.where(velocityp > vpmax, maxlinep, velocityp)\n",
    "        velocityp = torch.where(velocityp < vpmin, minlinep, velocityp)\n",
    "                \n",
    "        ys = model2(x)\n",
    "        ys = ((vvsmax - vvsmin) * torch.tanh(ys) + (vvsmax + vvsmin))/2.0\n",
    "        ys = torch.squeeze(ys)\n",
    "        dk_vs = ys[y_shape0:y_shape0+vp0.shape[0],y_shape1:y_shape1+vp0.shape[1]]\n",
    "        v_mean_s=torch.sqrt(torch.sum(vs0**2))\n",
    "        g_mean_s=torch.sqrt(torch.sum(dk_vs**2))\n",
    "        alpha_s=v_mean_s/g_mean_s  \n",
    "        velocitys = vs0 + alpha_s * dk_vs * pur\n",
    "        velocitys = torch.where(velocitys > vsmax, maxlines, velocitys)\n",
    "        velocitys = torch.where(velocitys < vsmin, minlines, velocitys)\n",
    "        \n",
    "        velocitys = torch.where((velocityp/velocitys)<1.414,velocityp/1.414,velocitys)\n",
    "        \n",
    "        den = torch.ones((nz+nbc+pad_top,nx+nbc+nbc), device=torch.device('cuda', 0))\n",
    "        vp1 = pad(velocityp,nbc,pad_top)\n",
    "        vs1 = pad(velocitys,nbc,pad_top)\n",
    "        ca=torch.mul(vp1**2,den)\n",
    "        cm=torch.mul((vs1**2),den)\n",
    "        cl=ca - 2*cm\n",
    "        den = den\n",
    "        den1=den\n",
    "#         den1[pad_top-1,:]=2*den1[pad_top-1,:]\n",
    "#         cm[0:pad_top,:]=0.5*cm[0:pad_top,:]\n",
    "        cm1=cm\n",
    "        cl = cl * denm0\n",
    "        cm1[pad_top-1,:]=2*cm1[pad_top-1,:]\n",
    "        cam = torch.zeros((nz+nbc+pad_top,nx+nbc+nbc), device=torch.device('cuda', 0))\n",
    "        cam[pad_top-1,:] = 2 * cm[pad_top-1,:] - ca[pad_top-1,:]\n",
    "        ca = ca + cam\n",
    "        b=dtx*torch.reciprocal(den)\n",
    "        b = b * denm2\n",
    "        b1=b\n",
    "        input_vector[6] = int(sx[gg])\n",
    "#         [seismo_u,seismo_w]=staggeredfd_py_cuda(input_vector,temp,ca,cl,cm,cm1,b,b1,s)\n",
    "        [seismo_u,seismo_w,_]=libtorch_staggerfd_cuda.forward(input_vector,temp,ca,cl,cm,cm1,b,b1,s)\n",
    "\n",
    "        seismo_ww = torch.zeros_like(seismo_w,device=device)\n",
    "        seismo_w = bp_filter(seismo_w,dt,5-5,5,fmax,fmax+5)\n",
    "#         seismo_w = manual_pick(seismo_w,dt,gg,ng,p_ind)\n",
    "        for ii in range(ng):\n",
    "            seismo_ww[:,ii] = seismo_w[:,ii]/torch.max(torch.abs(seismo_w[:,ii]))  \n",
    "\n",
    "        tracesum1 = torch.sum(seismo_v_d[:,:,gg]**2);\n",
    "        tracesum2 = torch.sum(seismo_ww**2)\n",
    "        loss = (1.0 - torch.abs(torch.sum(seismo_ww*seismo_v_d[:,:,gg]/(torch.sqrt(tracesum1)*torch.sqrt(tracesum2)))))**2\n",
    "#         loss = criteon(seismo_ww,seismo_v_d[:,:,gg])\n",
    "        loss.backward()\n",
    "        res[i] = res[i] + loss.data\n",
    "        print(gg,i)\n",
    "\n",
    "    optimizer.step()   \n",
    "#     if i%10==0:\n",
    "#         for params in optimizer.param_groups:                \n",
    "#             params['lr'] *= 0.5  \n",
    "#             print('lr=',params['lr'])\n",
    "    T2=time.time()\n",
    "    print('step; time use:',T2-T1,'res:',res[i])\n",
    "    print('step; time use:',T2-T1,'res:',res[i], file = print_log)\n",
    "    if i%5==1:\n",
    "        imagesc(velocityp)\n",
    "        plt.savefig('./wadi_iter/vp_iter/vp' + str(i) + '.png')\n",
    "        imagesc(yp)\n",
    "        plt.savefig('./wadi_grad/d_vp/d_vp' + str(i) + '.png')\n",
    "        imagesc(velocitys)\n",
    "        plt.savefig('./wadi_iter/vs_iter/vs' + str(i) + '.png')\n",
    "        imagesc(ys)\n",
    "        plt.savefig('./wadi_grad/d_vs/d_vs' + str(i) + '.png')\n",
    "        sio.savemat('./restemp/NNwadi_04_11_' + str(i) + '.mat',{'Wadivp04_11':velocityp.detach().cpu().numpy(),'Wadivs04_11':velocitys.detach().cpu().numpy()})\n",
    "    if i%150==0:\n",
    "        model1.apply(weights_init)\n",
    "        model2.apply(weights_init)\n",
    "        with torch.no_grad():\n",
    "            vp0 = velocityp.data\n",
    "            vs0 = velocitys.data\n",
    "        for params in optimizer.param_groups:                \n",
    "            params['lr'] = 1e-4  \n",
    "        fmax = fmax + 20\n",
    "        seismo_v_d = p_real_data(fmax)"
   ]
  },
  {
   "cell_type": "code",
   "execution_count": null,
   "id": "bb9d7450",
   "metadata": {},
   "outputs": [],
   "source": [
    "imagesc(seismo_v_d[:,:,0])"
   ]
  },
  {
   "cell_type": "code",
   "execution_count": null,
   "id": "4a1a0eb6",
   "metadata": {},
   "outputs": [],
   "source": [
    "model1.apply(weights_init)\n",
    "model2.apply(weights_init)\n",
    "with torch.no_grad():\n",
    "    vp0 = velocityp.data\n",
    "    vs0 = velocitys.data\n",
    "for params in optimizer.param_groups:                \n",
    "    params['lr'] = 1e-4  \n",
    "fmax = fmax + 20\n",
    "seismo_v_d = p_real_data(fmax)"
   ]
  },
  {
   "cell_type": "code",
   "execution_count": null,
   "id": "6d9f9c5b",
   "metadata": {
    "scrolled": true
   },
   "outputs": [],
   "source": [
    "# j=0\n",
    "imagesc(velocityp)\n",
    "imagesc(velocitys)\n",
    "# plt.savefig('./model_low/iter' + str(j) + '.png')"
   ]
  },
  {
   "cell_type": "code",
   "execution_count": null,
   "id": "7b979b6c",
   "metadata": {},
   "outputs": [],
   "source": [
    "imagesc(velocityp.detach().cpu().numpy()/velocitys.detach().cpu().numpy())"
   ]
  },
  {
   "cell_type": "code",
   "execution_count": null,
   "id": "205d7913",
   "metadata": {},
   "outputs": [],
   "source": [
    "vp1 = pad(vp_RM,nbc,pad_top)\n",
    "vs1 = pad(vs_RM,nbc,pad_top)\n",
    "ca=torch.mul(vp1**2,den)\n",
    "cm=torch.mul((vs1**2),den)\n",
    "cl=ca - 2*cm\n",
    "den = den\n",
    "den1=den\n",
    "#         den1[pad_top-1,:]=2*den1[pad_top-1,:]\n",
    "#         cm[0:pad_top,:]=0.5*cm[0:pad_top,:]\n",
    "cm1=cm\n",
    "cl = cl * denm0\n",
    "cm1[pad_top-1,:]=2*cm1[pad_top-1,:]\n",
    "cam = torch.zeros((nz+nbc+pad_top,nx+nbc+nbc), device=torch.device('cuda', 0))\n",
    "cam[pad_top-1,:] = 2 * cm[pad_top-1,:] - ca[pad_top-1,:]\n",
    "ca = ca + cam\n",
    "b=dtx*torch.reciprocal(den)\n",
    "b = b * denm2\n",
    "b1=b\n",
    "input_vector[6] = int(sx[0])\n",
    "#         [seismo_u,seismo_w]=staggeredfd_py_cuda(input_vector,temp,ca,cl,cm,cm1,b,b1,s)\n",
    "[seismo_u,seismo_w,_]=libtorch_staggerfd_cuda.forward(input_vector,temp,ca,cl,cm,cm1,b,b1,s)"
   ]
  },
  {
   "cell_type": "code",
   "execution_count": null,
   "id": "750b6f46",
   "metadata": {},
   "outputs": [],
   "source": [
    "imagesc(seismo_w)"
   ]
  },
  {
   "cell_type": "code",
   "execution_count": null,
   "id": "2ebb4070",
   "metadata": {},
   "outputs": [],
   "source": [
    "sio.savemat('NNres_11_14.mat',{'velocityp11_14':velocityp.detach().cpu().numpy(),'velocitys11_14':velocitys.detach().cpu().numpy()})"
   ]
  },
  {
   "cell_type": "code",
   "execution_count": null,
   "id": "a5b99d4b",
   "metadata": {},
   "outputs": [],
   "source": [
    "torch.set_printoptions(precision=50)\n",
    "print(x)\n",
    "torch.set_printoptions(precision=10)"
   ]
  },
  {
   "cell_type": "code",
   "execution_count": null,
   "id": "bd8c7979",
   "metadata": {},
   "outputs": [],
   "source": [
    "import copy\n",
    "model_low_model_wts = copy.deepcopy(model1.state_dict())\n",
    "PATH = \"./cross261vp.pth\"\n",
    "torch.save(model_low_model_wts, PATH)\n",
    "model_low_model_wts = copy.deepcopy(model2.state_dict())\n",
    "PATH = \"./cross261vs.pth\"\n",
    "torch.save(model_low_model_wts, PATH)"
   ]
  },
  {
   "cell_type": "code",
   "execution_count": null,
   "id": "264d627b",
   "metadata": {},
   "outputs": [],
   "source": [
    "imagesc(seismo_ww)"
   ]
  },
  {
   "cell_type": "code",
   "execution_count": null,
   "id": "bc16e515",
   "metadata": {},
   "outputs": [],
   "source": []
  },
  {
   "cell_type": "code",
   "execution_count": null,
   "id": "d85d1086",
   "metadata": {},
   "outputs": [],
   "source": []
  }
 ],
 "metadata": {
  "kernelspec": {
   "display_name": "Python 3 (ipykernel)",
   "language": "python",
   "name": "python3"
  },
  "language_info": {
   "codemirror_mode": {
    "name": "ipython",
    "version": 3
   },
   "file_extension": ".py",
   "mimetype": "text/x-python",
   "name": "python",
   "nbconvert_exporter": "python",
   "pygments_lexer": "ipython3",
   "version": "3.10.12"
  },
  "varInspector": {
   "cols": {
    "lenName": 16,
    "lenType": 16,
    "lenVar": 40
   },
   "kernels_config": {
    "python": {
     "delete_cmd_postfix": "",
     "delete_cmd_prefix": "del ",
     "library": "var_list.py",
     "varRefreshCmd": "print(var_dic_list())"
    },
    "r": {
     "delete_cmd_postfix": ") ",
     "delete_cmd_prefix": "rm(",
     "library": "var_list.r",
     "varRefreshCmd": "cat(var_dic_list()) "
    }
   },
   "oldHeight": 710.828,
   "position": {
    "height": "40px",
    "left": "1118.16px",
    "right": "20px",
    "top": "126.953px",
    "width": "415.938px"
   },
   "types_to_exclude": [
    "module",
    "function",
    "builtin_function_or_method",
    "instance",
    "_Feature"
   ],
   "varInspector_section_display": "none",
   "window_display": true
  }
 },
 "nbformat": 4,
 "nbformat_minor": 5
}
